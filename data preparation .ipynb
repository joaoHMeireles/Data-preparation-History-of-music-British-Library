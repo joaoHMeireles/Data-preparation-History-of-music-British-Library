{
 "cells": [
  {
   "cell_type": "markdown",
   "id": "1ea2ccca",
   "metadata": {},
   "source": [
    "#### 1 Pegando informações"
   ]
  },
  {
   "cell_type": "code",
   "execution_count": null,
   "id": "99e7b49b",
   "metadata": {},
   "outputs": [],
   "source": [
    "import pandas as pd\n",
    "import matplotlib.pyplot as plt\n",
    "import seaborn as sns\n",
    "import numpy as np\n",
    "\n",
    "pd.set_option('float_format', '{:f}'.format)\n",
    "path = '../../Jupyter/Jupyter server/records.csv'\n",
    "\n",
    "records = pd.read_csv(path)"
   ]
  },
  {
   "cell_type": "code",
   "execution_count": 2,
   "id": "c6c73041",
   "metadata": {},
   "outputs": [
    {
     "data": {
      "text/html": [
       "<div>\n",
       "<style scoped>\n",
       "    .dataframe tbody tr th:only-of-type {\n",
       "        vertical-align: middle;\n",
       "    }\n",
       "\n",
       "    .dataframe tbody tr th {\n",
       "        vertical-align: top;\n",
       "    }\n",
       "\n",
       "    .dataframe thead th {\n",
       "        text-align: right;\n",
       "    }\n",
       "</style>\n",
       "<table border=\"1\" class=\"dataframe\">\n",
       "  <thead>\n",
       "    <tr style=\"text-align: right;\">\n",
       "      <th></th>\n",
       "      <th>BL record ID</th>\n",
       "      <th>Composer</th>\n",
       "      <th>Composer life dates</th>\n",
       "      <th>Title</th>\n",
       "      <th>Publication date (standardised)</th>\n",
       "      <th>Publication date (not standardised)</th>\n",
       "      <th>Place of publication</th>\n",
       "      <th>Publisher</th>\n",
       "      <th>ISBN</th>\n",
       "      <th>ISMN</th>\n",
       "      <th>Publisher number</th>\n",
       "      <th>BL shelfmark</th>\n",
       "    </tr>\n",
       "  </thead>\n",
       "  <tbody>\n",
       "    <tr>\n",
       "      <th>0</th>\n",
       "      <td>1279866</td>\n",
       "      <td>NaN</td>\n",
       "      <td>NaN</td>\n",
       "      <td>The Penguin book of Canadian Folk songs</td>\n",
       "      <td>1973.000000</td>\n",
       "      <td>1973</td>\n",
       "      <td>Harmondsworth</td>\n",
       "      <td>Penguin Books</td>\n",
       "      <td>0140708421</td>\n",
       "      <td>NaN</td>\n",
       "      <td>NaN</td>\n",
       "      <td>mH00/3305 ; X.439/3548</td>\n",
       "    </tr>\n",
       "    <tr>\n",
       "      <th>1</th>\n",
       "      <td>1312079</td>\n",
       "      <td>NaN</td>\n",
       "      <td>NaN</td>\n",
       "      <td>Anthology for The musician's guide to theory a...</td>\n",
       "      <td>2005.000000</td>\n",
       "      <td>c2005</td>\n",
       "      <td>New York</td>\n",
       "      <td>WW Norton &amp; Co</td>\n",
       "      <td>0393925765</td>\n",
       "      <td>NaN</td>\n",
       "      <td>NaN</td>\n",
       "      <td>F.1946.h</td>\n",
       "    </tr>\n",
       "    <tr>\n",
       "      <th>2</th>\n",
       "      <td>1706700</td>\n",
       "      <td>Hofhaimer, Paul</td>\n",
       "      <td>1459-1537</td>\n",
       "      <td>Harmoniae poeticae Pauli Hofheimeri : viri equ...</td>\n",
       "      <td>1539.000000</td>\n",
       "      <td>1539</td>\n",
       "      <td>Norimbergae</td>\n",
       "      <td>Apud Iohan Petreium</td>\n",
       "      <td>NaN</td>\n",
       "      <td>NaN</td>\n",
       "      <td>NaN</td>\n",
       "      <td>1070.c.12.(1.) ; 1213.i.1 ; G.727</td>\n",
       "    </tr>\n",
       "    <tr>\n",
       "      <th>3</th>\n",
       "      <td>1825532</td>\n",
       "      <td>NaN</td>\n",
       "      <td>NaN</td>\n",
       "      <td>Istituzioni e monumenti dell'arte musicale ita...</td>\n",
       "      <td>1931.000000</td>\n",
       "      <td>1931-1939</td>\n",
       "      <td>Milano</td>\n",
       "      <td>Ricordi</td>\n",
       "      <td>NaN</td>\n",
       "      <td>NaN</td>\n",
       "      <td>NaN</td>\n",
       "      <td>Hirsch IV.975 ; H.14</td>\n",
       "    </tr>\n",
       "    <tr>\n",
       "      <th>4</th>\n",
       "      <td>2225270</td>\n",
       "      <td>Chapman, Mary, (Musician)</td>\n",
       "      <td>NaN</td>\n",
       "      <td>Eight ball studies suitable for use in girls' ...</td>\n",
       "      <td>1940.000000</td>\n",
       "      <td>1940</td>\n",
       "      <td>London</td>\n",
       "      <td>Central Council of Physical Recreation (Great ...</td>\n",
       "      <td>NaN</td>\n",
       "      <td>NaN</td>\n",
       "      <td>NaN</td>\n",
       "      <td>D-07907.f.10</td>\n",
       "    </tr>\n",
       "  </tbody>\n",
       "</table>\n",
       "</div>"
      ],
      "text/plain": [
       "   BL record ID                   Composer Composer life dates  \\\n",
       "0       1279866                        NaN                 NaN   \n",
       "1       1312079                        NaN                 NaN   \n",
       "2       1706700            Hofhaimer, Paul           1459-1537   \n",
       "3       1825532                        NaN                 NaN   \n",
       "4       2225270  Chapman, Mary, (Musician)                 NaN   \n",
       "\n",
       "                                               Title  \\\n",
       "0            The Penguin book of Canadian Folk songs   \n",
       "1  Anthology for The musician's guide to theory a...   \n",
       "2  Harmoniae poeticae Pauli Hofheimeri : viri equ...   \n",
       "3  Istituzioni e monumenti dell'arte musicale ita...   \n",
       "4  Eight ball studies suitable for use in girls' ...   \n",
       "\n",
       "   Publication date (standardised) Publication date (not standardised)  \\\n",
       "0                      1973.000000                                1973   \n",
       "1                      2005.000000                               c2005   \n",
       "2                      1539.000000                                1539   \n",
       "3                      1931.000000                           1931-1939   \n",
       "4                      1940.000000                                1940   \n",
       "\n",
       "  Place of publication                                          Publisher  \\\n",
       "0        Harmondsworth                                      Penguin Books   \n",
       "1             New York                                     WW Norton & Co   \n",
       "2          Norimbergae                                Apud Iohan Petreium   \n",
       "3               Milano                                            Ricordi   \n",
       "4               London  Central Council of Physical Recreation (Great ...   \n",
       "\n",
       "         ISBN ISMN Publisher number                       BL shelfmark  \n",
       "0  0140708421  NaN              NaN             mH00/3305 ; X.439/3548  \n",
       "1  0393925765  NaN              NaN                           F.1946.h  \n",
       "2         NaN  NaN              NaN  1070.c.12.(1.) ; 1213.i.1 ; G.727  \n",
       "3         NaN  NaN              NaN               Hirsch IV.975 ; H.14  \n",
       "4         NaN  NaN              NaN                       D-07907.f.10  "
      ]
     },
     "execution_count": 2,
     "metadata": {},
     "output_type": "execute_result"
    }
   ],
   "source": [
    "records.head()"
   ]
  },
  {
   "cell_type": "code",
   "execution_count": 3,
   "id": "3e4f28e8",
   "metadata": {},
   "outputs": [
    {
     "data": {
      "text/plain": [
       "Index(['BL record ID', 'Composer', 'Composer life dates', 'Title',\n",
       "       'Publication date (standardised)',\n",
       "       'Publication date (not standardised)', 'Place of publication',\n",
       "       'Publisher', 'ISBN', 'ISMN', 'Publisher number', 'BL shelfmark'],\n",
       "      dtype='object')"
      ]
     },
     "execution_count": 3,
     "metadata": {},
     "output_type": "execute_result"
    }
   ],
   "source": [
    "records.columns"
   ]
  },
  {
   "cell_type": "code",
   "execution_count": 4,
   "id": "c5103878",
   "metadata": {},
   "outputs": [
    {
     "data": {
      "text/plain": [
       "BL record ID                             int64\n",
       "Composer                                object\n",
       "Composer life dates                     object\n",
       "Title                                   object\n",
       "Publication date (standardised)        float64\n",
       "Publication date (not standardised)     object\n",
       "Place of publication                    object\n",
       "Publisher                               object\n",
       "ISBN                                    object\n",
       "ISMN                                    object\n",
       "Publisher number                        object\n",
       "BL shelfmark                            object\n",
       "dtype: object"
      ]
     },
     "execution_count": 4,
     "metadata": {},
     "output_type": "execute_result"
    }
   ],
   "source": [
    "records.dtypes"
   ]
  },
  {
   "cell_type": "code",
   "execution_count": 5,
   "id": "d80b0417",
   "metadata": {},
   "outputs": [
    {
     "data": {
      "text/plain": [
       "BL record ID                                 0\n",
       "Composer                                 42059\n",
       "Composer life dates                     583223\n",
       "Title                                       22\n",
       "Publication date (standardised)          21494\n",
       "Publication date (not standardised)      15216\n",
       "Place of publication                    329160\n",
       "Publisher                               389242\n",
       "ISBN                                   1020151\n",
       "ISMN                                   1034661\n",
       "Publisher number                        901293\n",
       "BL shelfmark                              1773\n",
       "dtype: int64"
      ]
     },
     "execution_count": 5,
     "metadata": {},
     "output_type": "execute_result"
    }
   ],
   "source": [
    "records.isnull().sum()"
   ]
  },
  {
   "cell_type": "code",
   "execution_count": 6,
   "id": "3571df4d",
   "metadata": {},
   "outputs": [
    {
     "name": "stdout",
     "output_type": "stream",
     "text": [
      "<class 'pandas.core.frame.DataFrame'>\n",
      "RangeIndex: 1045508 entries, 0 to 1045507\n",
      "Data columns (total 12 columns):\n",
      " #   Column                               Non-Null Count    Dtype  \n",
      "---  ------                               --------------    -----  \n",
      " 0   BL record ID                         1045508 non-null  int64  \n",
      " 1   Composer                             1003449 non-null  object \n",
      " 2   Composer life dates                  462285 non-null   object \n",
      " 3   Title                                1045486 non-null  object \n",
      " 4   Publication date (standardised)      1024014 non-null  float64\n",
      " 5   Publication date (not standardised)  1030292 non-null  object \n",
      " 6   Place of publication                 716348 non-null   object \n",
      " 7   Publisher                            656266 non-null   object \n",
      " 8   ISBN                                 25357 non-null    object \n",
      " 9   ISMN                                 10847 non-null    object \n",
      " 10  Publisher number                     144215 non-null   object \n",
      " 11  BL shelfmark                         1043735 non-null  object \n",
      "dtypes: float64(1), int64(1), object(10)\n",
      "memory usage: 95.7+ MB\n"
     ]
    }
   ],
   "source": [
    "records.info()"
   ]
  },
  {
   "cell_type": "code",
   "execution_count": 7,
   "id": "98b35821",
   "metadata": {},
   "outputs": [
    {
     "data": {
      "text/plain": [
       "count   1024014.000000\n",
       "mean       1914.943543\n",
       "std          56.749582\n",
       "min        1018.000000\n",
       "25%        1885.000000\n",
       "50%        1920.000000\n",
       "75%        1957.000000\n",
       "max        8008.000000\n",
       "Name: Publication date (standardised), dtype: float64"
      ]
     },
     "execution_count": 7,
     "metadata": {},
     "output_type": "execute_result"
    }
   ],
   "source": [
    "records['Publication date (standardised)'].describe()"
   ]
  },
  {
   "cell_type": "code",
   "execution_count": 8,
   "id": "93403bd6",
   "metadata": {},
   "outputs": [
    {
     "name": "stdout",
     "output_type": "stream",
     "text": [
      "BL record ID 1045508 [ 1279866  1312079  1706700 ... 17169354 17170110 17170120]\n",
      "Composer 141284 [nan 'Hofhaimer, Paul' 'Chapman, Mary, (Musician)' ...\n",
      " 'Davies, Maxwell Peter' 'Axt, Cristian' 'Geoghegan, Lucinda']\n",
      "Composer life dates 8220 [nan '1459-1537' '1531-' ... '1839-1920' 'approximately 1780-1848'\n",
      " 'active 18th century-19th century']\n",
      "Title 971465 ['The Penguin book of Canadian Folk songs'\n",
      " \"Anthology for The musician's guide to theory and analysis\"\n",
      " 'Harmoniae poeticae Pauli Hofheimeri : viri equestri dignitate insigni, ac musici excellentis, quales sub ipsam mortem cecinit, qualesque ante hac nunquàm visae, tum vocibus humanis, tum etiam instrumentis accommodatissimae. Quibus praefixus est libellus plenus doctissimorum virorum de eodem D. Paulo testimonijs. Unà cum selectis ad hanc rem locis, è poetis, accommodatioribus, seorsim tum decantandis, tum praelegendis'\n",
      " ... 'The Lord bless you and keep you : for SATB and strings'\n",
      " 'A better world (O little town)' 'Christmas solos for the clarinet']\n",
      "Publication date (standardised) 540 [1973. 2005. 1539. 1931. 1940. 1609. 1894. 1982. 1795. 1857. 1785. 1788.\n",
      " 1939. 1744. 1937. 1899. 1731. 1850. 1679. 1780. 1783. 1835. 1830. 1728.\n",
      " 1863. 1919. 1913. 1912. 1898. 1926. 1905. 1843. 1860. 1877. 1876. 1765.\n",
      " 1756. 1761. 1859. 1848. 1775. 1839. 1936. 1908. 1865. 1841. 1845. 1923.\n",
      " 1856. 1902. 1885. 1903. 1904. 1847. 1915. 1868. 1858. 1897. 1873. 1887.\n",
      " 1881. 1884. 1956. 1901. 1910. 1900. 1921. 1914. 1907. 1917. 1705. 1946.\n",
      " 1935. 1933. 1965. 1960.   nan 1947. 1949. 1967. 1957. 1968. 1717. 1720.\n",
      " 1725. 1909. 1971. 1880. 1864. 1853. 1952. 1925. 1950. 1794. 1810. 1980.\n",
      " 1976. 1882. 1883. 1635. 1627. 1650. 1653. 1906. 1874. 1918. 1842. 1962.\n",
      " 1978. 1911. 1916. 1928. 1878. 1893. 1895. 1861. 1867. 1892. 1948. 1840.\n",
      " 1851. 1854. 1855. 1838. 1871. 1801. 1798. 1755. 1758. 1760. 1800. 1815.\n",
      " 1896. 1966. 1953. 1820. 1774. 1961. 1763. 1770. 1790. 1762. 1778. 1766.\n",
      " 1769. 1781. 1963. 1951. 1764. 1972. 1777. 1784. 1797. 1796. 1938. 1977.\n",
      " 1767. 1773. 1807. 1822. 1821. 1837. 1888. 1702. 1703. 1701. 1870. 1890.\n",
      " 1551. 1866. 1872. 1879. 1922. 1875. 1954. 1929. 1750. 1753. 1740. 1803.\n",
      " 1889. 1930. 1934. 1812. 1886. 1805. 1799. 1804. 1806. 1814. 1825. 1808.\n",
      " 1945. 1970. 1955. 1958. 1959. 1891. 1862. 1852. 1869. 1924. 1927. 1849.\n",
      " 1844. 1932. 1846. 1704. 1733. 1942. 1724. 1944. 1748. 1826. 1964. 1979.\n",
      " 1754. 1974. 1834. 1836. 1832. 1975. 1831. 1828. 1827. 1833. 1829. 1920.\n",
      " 1813. 1819. 1793. 1789. 1941. 1943. 1824. 1818. 1811. 1969. 1786. 1792.\n",
      " 1772. 1816. 1817. 1809. 1751. 1787. 1741. 1621. 1729. 1730. 1570. 1592.\n",
      " 1600. 1605. 1655. 1779. 1607. 1613. 1639. 1602. 1608. 1611. 1616. 1606.\n",
      " 1614. 1615. 1743. 1768. 1757. 1504. 1601. 1759. 1776. 1771. 1802. 1711.\n",
      " 1710. 1752. 1715. 1648. 1666. 1657. 1658. 1665. 1590. 1597. 1603. 1723.\n",
      " 1696. 1595. 1791. 1707. 1712. 1661. 1737. 1738. 1782. 1692. 1694. 1700.\n",
      " 1693. 1633. 1698. 1568. 1685. 1687. 1652. 1638. 1645. 1718. 1732. 1727.\n",
      " 1721. 1594. 1553. 1726. 1709. 1708. 1823. 1745. 1746. 1735. 1742. 1690.\n",
      " 1716. 1545. 1649. 1640. 1656. 1689. 1620. 1636. 1571. 1575. 1673. 1593.\n",
      " 1582. 1579. 1706. 1583. 1749. 1624. 1599. 1540. 1587. 1622. 1547. 1567.\n",
      " 1564. 1573. 1500. 1643. 1734. 1588. 1541. 1546. 1550. 1557. 1543. 1581.\n",
      " 1686. 1714. 1739. 1736. 1659. 1672. 1662. 1680. 1670. 1747. 1585. 1565.\n",
      " 1586. 1578. 1719. 1984. 1664. 1663. 1722. 1580. 8008. 1677. 1589. 1699.\n",
      " 1647. 1654. 1678. 1675. 1642. 1625. 1626. 1610. 1549. 1569. 1988. 1596.\n",
      " 1641. 1983. 1713. 1508. 1695. 1684. 1691. 1612. 1991. 1604. 1618. 1559.\n",
      " 1668. 1584. 1598. 1542. 1986. 1681. 1555. 1688. 1619. 1631. 1697. 1629.\n",
      " 1399. 1273. 1683. 1617. 1623. 1566. 1503. 1671. 1669. 1554. 1651. 1682.\n",
      " 1660. 1630. 1634. 1674. 1591. 1667. 1538. 1535. 1562. 1576. 1574. 1646.\n",
      " 1501. 1561. 1527. 1544. 1556. 1572. 1558. 1632. 1552. 1637. 1628. 1537.\n",
      " 1520. 1521. 1509. 1560. 1516. 1533. 1526. 1515. 1514. 1644. 1577. 1492.\n",
      " 1530. 1536. 1548. 1506. 1676. 1532. 1563. 1528. 1415. 1517. 1525. 1345.\n",
      " 1529. 1996. 1523. 1498. 1519. 1531. 1512. 1505. 1524. 1502. 1507. 1518.\n",
      " 2197. 2075. 1349. 1264. 1263. 1989. 1510. 1493. 1511. 1534. 1342. 1341.\n",
      " 1266. 1985. 1995. 1998. 1990. 1992. 1997. 1994. 1993. 1987. 1999. 2000.\n",
      " 1981. 2001. 2002. 2003. 1335. 1279. 1339. 1337. 2004. 2006. 2010. 2007.\n",
      " 2011. 2008. 2009. 1018. 2012. 1446. 1060. 1077. 2019. 2013. 2014. 2015.]\n",
      "Publication date (not standardised) 14184 ['1973' 'c2005' '1539' ... 'between 1832 and 1846' 'approximately 1795'\n",
      " 'approximately 1800']\n",
      "Place of publication 11051 ['Harmondsworth' 'New York' 'Norimbergae' ... 'Paris, France'\n",
      " 'Malvern, Worcestershire' 'Ullapool, Ross-shire, Scotland']\n",
      "Publisher 53519 ['Penguin Books' 'WW Norton & Co' 'Apud Iohan Petreium' ...\n",
      " 'Edvin Kallstenius' 'Anthony Hedges' 'Godfrey Turner']\n",
      "ISBN 24964 ['0140708421' '0393925765' nan ... '9780193407299 ; 9780193407275'\n",
      " '9780193407305 ; 9780193407312' '9780711910812']\n",
      "ISMN 10286 [nan '570162161' '006495726' ... '9790577088907' '9790708113201'\n",
      " '9790570168248']\n",
      "Publisher number 129549 [nan 'B. & H. 18347' 'F.D.&Co. 576' ... 'MM 447' 'MM 430' 'AM65020']\n",
      "BL shelfmark 844187 ['mH00/3305 ; X.439/3548' 'F.1946.h' '1070.c.12.(1.) ; 1213.i.1 ; G.727'\n",
      " ... 'H.1326.h./1/6' 'H.2134.hh./3' 'H.2134.hh./9']\n"
     ]
    }
   ],
   "source": [
    "for column in records.columns:\n",
    "    print(column, len(records[column].unique()), records[column].unique())"
   ]
  },
  {
   "cell_type": "markdown",
   "id": "4f68d3e0",
   "metadata": {},
   "source": [
    "#### 2 Pequenos ajustes"
   ]
  },
  {
   "cell_type": "code",
   "execution_count": 9,
   "id": "1b59301f",
   "metadata": {},
   "outputs": [],
   "source": [
    "records.rename(columns={ 'Publication date (standardised)': 'Publication date'}, inplace=True)"
   ]
  },
  {
   "cell_type": "code",
   "execution_count": 10,
   "id": "c9b9373d",
   "metadata": {},
   "outputs": [],
   "source": [
    "media = int(records['Publication date'].mean())\n",
    "for index, linha in records.iterrows():\n",
    "    if(linha['Publication date'] > 2023):\n",
    "       records.loc[index, 'Publication date'] = media\n",
    "   "
   ]
  },
  {
   "cell_type": "markdown",
   "id": "7da858df",
   "metadata": {},
   "source": [
    "#### 3 Arrumando a coluna de data de publicação"
   ]
  },
  {
   "cell_type": "code",
   "execution_count": 12,
   "id": "e3cce1b9",
   "metadata": {},
   "outputs": [
    {
     "data": {
      "text/plain": [
       "21494"
      ]
     },
     "execution_count": 12,
     "metadata": {},
     "output_type": "execute_result"
    }
   ],
   "source": [
    "musicas_sem_data = records[records[\"Publication date\"].isnull()]\n",
    "len(musicas_sem_data)"
   ]
  },
  {
   "cell_type": "code",
   "execution_count": 13,
   "id": "18afb656",
   "metadata": {},
   "outputs": [
    {
     "data": {
      "text/plain": [
       "18974"
      ]
     },
     "execution_count": 13,
     "metadata": {},
     "output_type": "execute_result"
    }
   ],
   "source": [
    "musicas_possiveis_arrumar_data = musicas_sem_data[\n",
    "    musicas_sem_data[\"Publication date (not standardised)\"].notnull()\n",
    "]\n",
    "len(musicas_possiveis_arrumar_data)"
   ]
  },
  {
   "cell_type": "code",
   "execution_count": 14,
   "id": "109ae8e1",
   "metadata": {},
   "outputs": [
    {
     "data": {
      "text/plain": [
       "array(['Mas', 'e', 'Mass, printed', 'Ohi', 'at Covent Garden', 'sic',\n",
       "       '́861', 'si', 'Mass', '87', 'b', 'pp', '(Saale)',\n",
       "       'by Arthur H Mann', 'a', '199', '13', '1', '33', '188', 'u', '178',\n",
       "       '(-iii)', '2 pt', '189', 'Ont', '194', 'printed', '191', 'Anvie',\n",
       "       'Ausgewählte Gesänge des Thomanerchores, etc No', '4', 'oru', 'hi',\n",
       "       'I>Mass', 'I>N', 'Bosto', 'Hambur', 'c', 'Conn',\n",
       "       \"The 'Chrome' Album, etc\", '74a', 'rea', '- Le Monde musical',\n",
       "       ',Mas', 'U S', 'Ms', 'Breme', 'York', '330', '41', 'ongma', 'r',\n",
       "       'Genev', '(London)', '12', 'London', 'ohn', 'harles an', 'braha',\n",
       "       'oh', 'amue', 'Samuel', '(Regensburg)', '67', 'N Y', 'New Yor',\n",
       "       'illia', 'ndre', 'enr', 'N', 'delphi', 'Milano', '1, no',\n",
       "       'I>Edinbr', 'U S A', 'Vermon', 'Pari', 'eeke', 'Londo',\n",
       "       'ongman an', 'ohn an', 'U', 'Pennsylvani', 'amuel an', 'Devente',\n",
       "       'ichar', \"L'vi\", 'Roma', 'Augsbur', 'eekes & C', '951', 'Toront',\n",
       "       '973', 'harles and', 'Venice', 'Coburg', 'raigh',\n",
       "       '145of a Set of Vocal Trios for Treble Voices',\n",
       "       \"10of 'Klassische und Moderne Werke als Duo,' etc\", '8', 'Kan',\n",
       "       'NY', 'printed at', 'New York', 'aigh', 'olla', 'obe', 'elphi',\n",
       "       'Vt', 'Manchester', '-8̊', '16', 'I>Ind', 'fol', 'traigh',\n",
       "       'Versailles', '417', 'NZ', 'eorg', 'Toronto', ' 18', 'Nova Scoti',\n",
       "       'sd', '8̊', 'Budapest', 'ew', 'ie John Legat', 'fo', '7', ', c',\n",
       "       '(Prov Sa)', 'ari', 'John', 'harle', 'Bate', 'ongman',\n",
       "       'Connecticu', 'J', '(& Military)', '(New-York,)', 'I>Pa', '82',\n",
       "       '47', '187-', '(Dessau)', 'aight an', '(Barnstaple)', 'N S',\n",
       "       'Never', 'Frankfur', '244', 'an', 'etc', '4̊', 'icha', 'Brussel',\n",
       "       'Samuel and Ann Thompso', 'or rather, Fentu', 'P',\n",
       "       \"2 bears the imprint 'Pechatano v tipo-litografi\", '(Weimar)',\n",
       "       ' c', 'c191', 'cXXXX', 'c19XX', 'c19xx', 'c196X', '19', '199-',\n",
       "       'n d', '200-', 'nd', '19--', 'no date', 's d', '197-', '198',\n",
       "       '198-', '18- ', '18-', '18', '(18--)', '17', '(186-)', '19-',\n",
       "       '18--', '196-', '21', '(19-)', '192-', '19 ', '193-', '18 --',\n",
       "       '(19--)', '195-', '(198-)', '(197-)', '198- printing', '(198)',\n",
       "       'c197', 'c194', '(18-)', '1---', '197', '(BA 253)', '(190-)',\n",
       "       'c199', '(PB 70)', '(194-)', '188-', '(193)', '(188-)', '19 --',\n",
       "       '(192-)', '19-1', '(193-)', '191-', '19- ', '(17--)', '184-',\n",
       "       '(182-)', '889', '20--', 'DATE',\n",
       "       'date of publication not identified', '182', '186'], dtype=object)"
      ]
     },
     "execution_count": 14,
     "metadata": {},
     "output_type": "execute_result"
    }
   ],
   "source": [
    "musicas_possiveis_arrumar_data[\"Publication date (not standardised)\"].unique()"
   ]
  },
  {
   "cell_type": "code",
   "execution_count": 15,
   "id": "a2d6565d",
   "metadata": {},
   "outputs": [
    {
     "name": "stdout",
     "output_type": "stream",
     "text": [
      "1980\n"
     ]
    },
    {
     "data": {
      "text/plain": [
       "array(['200-', '199', '199-', 'c199', '198', '198-', '(198)', '(198-)',\n",
       "       '198- printing', '973', '197', '197-', '(197-)', 'c197', 'c196X',\n",
       "       '196-', '952', '195-', '194', 'c194', '(194-)', '193-', '(193)',\n",
       "       '(193-)', '192-', '(192-)', '19-1', '191', 'c191', '191-',\n",
       "       '(190-)', '189', '889', '188', '188-', '(188-)', '187-', '861',\n",
       "       '186', '(186-)', '184-', '(182-)', '182', '178', '417', '330',\n",
       "       '244'], dtype='<U13')"
      ]
     },
     "execution_count": 15,
     "metadata": {},
     "output_type": "execute_result"
    }
   ],
   "source": [
    "guia_datas = { '200-': 2000, '199': 1990,'199-': 1990, 'c199': 1990, '198': 1980, '198-': 1980, '(198)': 1980, '(198-)': 1980,\n",
    "             '198- printing': 1980, '973': 1973, '197': 1970, '197-': 1970, '(197-)': 1970, 'c197': 1970, 'c196X': 1960,\n",
    "             '196-': 1960, '952': 1952, '195-': 1950, '194': 1940, 'c194': 1940, '(194-)': 1940, '193-': 1930, '(193)': 1930,\n",
    "             '(193-)': 1930, '192-': 1920, '(192-)': 1920, '19-1': 1911, '191': 1910, 'c191': 1910, '191-': 1910, '(190-)': 1900,\n",
    "             '189': 1890, '889': 1889, '188': 1880, '188-': 1880, '(188-)': 1880, '187-': 1870, '861': 1861, '186': 1860,\n",
    "             '(186-)': 1860, '184-': 1840, '(182-)': 1820, '182': 1820, '178': 1780, '417': 1417, '330': 1330, '244': 1244}\n",
    "verificacao_guia_datas = np.array(list(guia_datas.keys()))\n",
    "\n",
    "print(guia_datas['198- printing'])\n",
    "verificacao_guia_datas"
   ]
  },
  {
   "cell_type": "code",
   "execution_count": 16,
   "id": "f3fbdeaa",
   "metadata": {},
   "outputs": [],
   "source": [
    "for index, linha_musica in musicas_possiveis_arrumar_data.iterrows():\n",
    "    dica_data = linha_musica[\"Publication date (not standardised)\"]\n",
    "    \n",
    "    if(dica_data in verificacao_guia_datas):\n",
    "        records.loc[index, 'Publication date'] = guia_datas[dica_data]"
   ]
  },
  {
   "cell_type": "markdown",
   "id": "8a412f79",
   "metadata": {},
   "source": [
    "#### 4 Arrumando coluna de Lugar de publicação"
   ]
  },
  {
   "cell_type": "code",
   "execution_count": 18,
   "id": "e469852a",
   "metadata": {},
   "outputs": [
    {
     "data": {
      "text/plain": [
       "329160"
      ]
     },
     "execution_count": 18,
     "metadata": {},
     "output_type": "execute_result"
    }
   ],
   "source": [
    "musicas_sem_localizacao = records[records['Place of publication'].isnull()]\n",
    "len(musicas_sem_localizacao)"
   ]
  },
  {
   "cell_type": "code",
   "execution_count": 19,
   "id": "8d4eedd9",
   "metadata": {},
   "outputs": [
    {
     "data": {
      "text/plain": [
       "315573"
      ]
     },
     "execution_count": 19,
     "metadata": {},
     "output_type": "execute_result"
    }
   ],
   "source": [
    "musicas_possiveis_arrumar_localizacao = musicas_sem_localizacao[\n",
    "    musicas_sem_localizacao['Publication date (not standardised)'].notnull()\n",
    "]\n",
    "len(musicas_possiveis_arrumar_localizacao)"
   ]
  },
  {
   "cell_type": "code",
   "execution_count": 20,
   "id": "37375dc7",
   "metadata": {},
   "outputs": [
    {
     "data": {
      "text/plain": [
       "5004"
      ]
     },
     "execution_count": 20,
     "metadata": {},
     "output_type": "execute_result"
    }
   ],
   "source": [
    "valores_unicos = musicas_possiveis_arrumar_localizacao['Publication date (not standardised)'].unique()\n",
    "len(valores_unicos)"
   ]
  },
  {
   "cell_type": "code",
   "execution_count": 21,
   "id": "7339b6b3",
   "metadata": {},
   "outputs": [
    {
     "data": {
      "text/plain": [
       "4396"
      ]
     },
     "execution_count": 21,
     "metadata": {},
     "output_type": "execute_result"
    }
   ],
   "source": [
    "valores_possiveis =[]\n",
    "for valor_unico in valores_unicos:\n",
    "    if(not valor_unico.isnumeric() and len(valor_unico) > 5):\n",
    "        valores_possiveis.append(valor_unico)\n",
    "\n",
    "len(valores_possiveis)"
   ]
  },
  {
   "cell_type": "code",
   "execution_count": 22,
   "id": "3b88e6e1",
   "metadata": {},
   "outputs": [
    {
     "data": {
      "text/plain": [
       "10784"
      ]
     },
     "execution_count": 22,
     "metadata": {},
     "output_type": "execute_result"
    }
   ],
   "source": [
    "len(musicas_possiveis_arrumar_localizacao[\n",
    "    musicas_possiveis_arrumar_localizacao['Publication date (not standardised)'].isin(valores_possiveis)\n",
    "])"
   ]
  },
  {
   "cell_type": "markdown",
   "id": "07aa788a",
   "metadata": {},
   "source": [
    "#### 5 Arrumando coluna de compositor"
   ]
  },
  {
   "cell_type": "code",
   "execution_count": 23,
   "id": "903480d4",
   "metadata": {},
   "outputs": [],
   "source": [
    "valores_unicos = records[records['Place of publication'].notna()]['Place of publication'].unique()\n",
    "compositores_frequentes_lugar = []\n",
    "valores_unicos_validos = []\n",
    "\n",
    "for place in valores_unicos:\n",
    "    linhas_correspondentes = records[records[\"Place of publication\"] == place]\n",
    "    moda = linhas_correspondentes[\"Composer\"].mode()\n",
    "    if(len(moda) > 0):\n",
    "        compositores_frequentes_lugar.append(moda[0])\n",
    "        valores_unicos_validos.append(place)\n"
   ]
  },
  {
   "cell_type": "code",
   "execution_count": 62,
   "id": "9d3a5970",
   "metadata": {},
   "outputs": [
    {
     "data": {
      "text/plain": [
       "12662"
      ]
     },
     "execution_count": 62,
     "metadata": {},
     "output_type": "execute_result"
    }
   ],
   "source": [
    "musicas_sem_compositor = records[records[\"Composer\"].isnull()]\n",
    "len(musicas_sem_compositor)"
   ]
  },
  {
   "cell_type": "code",
   "execution_count": 63,
   "id": "1f43102a",
   "metadata": {},
   "outputs": [
    {
     "data": {
      "text/plain": [
       "0"
      ]
     },
     "execution_count": 63,
     "metadata": {},
     "output_type": "execute_result"
    }
   ],
   "source": [
    "musicas_possiveis_arrumar_compositor = musicas_sem_compositor[\n",
    "    musicas_sem_compositor[\"Place of publication\"].notnull()\n",
    "]\n",
    "len(musicas_possiveis_arrumar_compositor)"
   ]
  },
  {
   "cell_type": "code",
   "execution_count": 26,
   "id": "8864ef04",
   "metadata": {},
   "outputs": [
    {
     "data": {
      "text/plain": [
       "array(['Harmondsworth', 'New York', 'Milano', ..., 'London, 48 Cheapside',\n",
       "       'Germany ; Berlin', 'Luton, Bedfordshire'], dtype=object)"
      ]
     },
     "execution_count": 26,
     "metadata": {},
     "output_type": "execute_result"
    }
   ],
   "source": [
    "musicas_possiveis_arrumar_compositor[\"Place of publication\"].unique()"
   ]
  },
  {
   "cell_type": "code",
   "execution_count": 27,
   "id": "8909a276",
   "metadata": {},
   "outputs": [],
   "source": [
    "data={'Place of publication': valores_unicos_validos,'Mode composer': compositores_frequentes_lugar}\n",
    "\n",
    "compositores_moda_lugar = pd.DataFrame(data)"
   ]
  },
  {
   "cell_type": "code",
   "execution_count": 61,
   "id": "9a9b4c1b",
   "metadata": {},
   "outputs": [],
   "source": [
    "#fazer essa porra aqui\n",
    "\n",
    "# musicas_possiveis_arrumar_compositor.T\n",
    "for index, musica_arrumar in musicas_possiveis_arrumar_compositor.iterrows():\n",
    "    lugar_arrumar_compositor = musica_arrumar[\"Place of publication\"]\n",
    "    compositor_lugar = compositores_moda_lugar[ compositores_moda_lugar[\"Place of publication\"] == lugar_arrumar_compositor][\"Mode composer\"]\n",
    "    records.at[index, \"Composer\"] = compositor_lugar\n"
   ]
  },
  {
   "cell_type": "markdown",
   "id": "e80cbb84",
   "metadata": {},
   "source": [
    "adicionar novos resultados na documentação sobre o processo dos compositores"
   ]
  }
 ],
 "metadata": {
  "kernelspec": {
   "display_name": "Python 3 (ipykernel)",
   "language": "python",
   "name": "python3"
  },
  "language_info": {
   "codemirror_mode": {
    "name": "ipython",
    "version": 3
   },
   "file_extension": ".py",
   "mimetype": "text/x-python",
   "name": "python",
   "nbconvert_exporter": "python",
   "pygments_lexer": "ipython3",
   "version": "3.9.13"
  }
 },
 "nbformat": 4,
 "nbformat_minor": 5
}
